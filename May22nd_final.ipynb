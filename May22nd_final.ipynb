{
  "nbformat": 4,
  "nbformat_minor": 0,
  "metadata": {
    "colab": {
      "name": "May22nd_test3.ipynb",
      "provenance": [],
      "authorship_tag": "ABX9TyNMLo4my2QSv7uUJbrt/BL2",
      "include_colab_link": true
    },
    "kernelspec": {
      "name": "python3",
      "display_name": "Python 3"
    },
    "language_info": {
      "name": "python"
    }
  },
  "cells": [
    {
      "cell_type": "markdown",
      "metadata": {
        "id": "view-in-github",
        "colab_type": "text"
      },
      "source": [
        "<a href=\"https://colab.research.google.com/github/SSupriya2501/SSupriya2501/blob/main/May22nd_final.ipynb\" target=\"_parent\"><img src=\"https://colab.research.google.com/assets/colab-badge.svg\" alt=\"Open In Colab\"/></a>"
      ]
    },
    {
      "cell_type": "code",
      "execution_count": 1,
      "metadata": {
        "id": "Tz-h1vejZUmm"
      },
      "outputs": [],
      "source": [
        "import numpy as np\n",
        "import pandas as pd\n",
        "import matplotlib.pyplot as plt\n",
        "import os\n",
        "import time\n",
        "\n",
        "plt.style.use(style='seaborn')\n",
        "%matplotlib inline"
      ]
    },
    {
      "cell_type": "code",
      "source": [
        "from google.colab import drive\n",
        "drive.mount('/content/drive')"
      ],
      "metadata": {
        "colab": {
          "base_uri": "https://localhost:8080/"
        },
        "id": "Dtj5GtduZqjO",
        "outputId": "3c63cb6f-f0cd-4f57-f6d2-c0902a037bf1"
      },
      "execution_count": 2,
      "outputs": [
        {
          "output_type": "stream",
          "name": "stdout",
          "text": [
            "Mounted at /content/drive\n"
          ]
        }
      ]
    },
    {
      "cell_type": "code",
      "source": [
        "# import pandas\n",
        "import pandas as pd\n",
        "\n",
        "path = \"/content/drive/MyDrive/Corpus_21st_May.csv\"\n",
        "df= pd.read_csv(path , encoding = \"UTF-8\")\n",
        "#df=pd.read_csv('all-data.csv',encoding = \"windows-1252\")\n",
        "df.head()"
      ],
      "metadata": {
        "colab": {
          "base_uri": "https://localhost:8080/",
          "height": 206
        },
        "id": "FHghK4QNZzYM",
        "outputId": "80465b9d-c652-4198-8cd8-2621f43be95f"
      },
      "execution_count": 4,
      "outputs": [
        {
          "output_type": "execute_result",
          "data": {
            "text/plain": [
              "   Classes                                           Comments\n",
              "0        1  Eder niye alochona na korai valo.Era to  sudhu...\n",
              "1        1  sala janoar Sindoor k o respect dite shekheni ...\n",
              "2        1              ader lajja,man samman bole kichu nei.\n",
              "3        1                    Juto mere des theke tarate hobe\n",
              "4        1                                       Harami...ara"
            ],
            "text/html": [
              "\n",
              "  <div id=\"df-60076c00-04a4-4b46-b558-8f5ca47cba70\">\n",
              "    <div class=\"colab-df-container\">\n",
              "      <div>\n",
              "<style scoped>\n",
              "    .dataframe tbody tr th:only-of-type {\n",
              "        vertical-align: middle;\n",
              "    }\n",
              "\n",
              "    .dataframe tbody tr th {\n",
              "        vertical-align: top;\n",
              "    }\n",
              "\n",
              "    .dataframe thead th {\n",
              "        text-align: right;\n",
              "    }\n",
              "</style>\n",
              "<table border=\"1\" class=\"dataframe\">\n",
              "  <thead>\n",
              "    <tr style=\"text-align: right;\">\n",
              "      <th></th>\n",
              "      <th>Classes</th>\n",
              "      <th>Comments</th>\n",
              "    </tr>\n",
              "  </thead>\n",
              "  <tbody>\n",
              "    <tr>\n",
              "      <th>0</th>\n",
              "      <td>1</td>\n",
              "      <td>Eder niye alochona na korai valo.Era to  sudhu...</td>\n",
              "    </tr>\n",
              "    <tr>\n",
              "      <th>1</th>\n",
              "      <td>1</td>\n",
              "      <td>sala janoar Sindoor k o respect dite shekheni ...</td>\n",
              "    </tr>\n",
              "    <tr>\n",
              "      <th>2</th>\n",
              "      <td>1</td>\n",
              "      <td>ader lajja,man samman bole kichu nei.</td>\n",
              "    </tr>\n",
              "    <tr>\n",
              "      <th>3</th>\n",
              "      <td>1</td>\n",
              "      <td>Juto mere des theke tarate hobe</td>\n",
              "    </tr>\n",
              "    <tr>\n",
              "      <th>4</th>\n",
              "      <td>1</td>\n",
              "      <td>Harami...ara</td>\n",
              "    </tr>\n",
              "  </tbody>\n",
              "</table>\n",
              "</div>\n",
              "      <button class=\"colab-df-convert\" onclick=\"convertToInteractive('df-60076c00-04a4-4b46-b558-8f5ca47cba70')\"\n",
              "              title=\"Convert this dataframe to an interactive table.\"\n",
              "              style=\"display:none;\">\n",
              "        \n",
              "  <svg xmlns=\"http://www.w3.org/2000/svg\" height=\"24px\"viewBox=\"0 0 24 24\"\n",
              "       width=\"24px\">\n",
              "    <path d=\"M0 0h24v24H0V0z\" fill=\"none\"/>\n",
              "    <path d=\"M18.56 5.44l.94 2.06.94-2.06 2.06-.94-2.06-.94-.94-2.06-.94 2.06-2.06.94zm-11 1L8.5 8.5l.94-2.06 2.06-.94-2.06-.94L8.5 2.5l-.94 2.06-2.06.94zm10 10l.94 2.06.94-2.06 2.06-.94-2.06-.94-.94-2.06-.94 2.06-2.06.94z\"/><path d=\"M17.41 7.96l-1.37-1.37c-.4-.4-.92-.59-1.43-.59-.52 0-1.04.2-1.43.59L10.3 9.45l-7.72 7.72c-.78.78-.78 2.05 0 2.83L4 21.41c.39.39.9.59 1.41.59.51 0 1.02-.2 1.41-.59l7.78-7.78 2.81-2.81c.8-.78.8-2.07 0-2.86zM5.41 20L4 18.59l7.72-7.72 1.47 1.35L5.41 20z\"/>\n",
              "  </svg>\n",
              "      </button>\n",
              "      \n",
              "  <style>\n",
              "    .colab-df-container {\n",
              "      display:flex;\n",
              "      flex-wrap:wrap;\n",
              "      gap: 12px;\n",
              "    }\n",
              "\n",
              "    .colab-df-convert {\n",
              "      background-color: #E8F0FE;\n",
              "      border: none;\n",
              "      border-radius: 50%;\n",
              "      cursor: pointer;\n",
              "      display: none;\n",
              "      fill: #1967D2;\n",
              "      height: 32px;\n",
              "      padding: 0 0 0 0;\n",
              "      width: 32px;\n",
              "    }\n",
              "\n",
              "    .colab-df-convert:hover {\n",
              "      background-color: #E2EBFA;\n",
              "      box-shadow: 0px 1px 2px rgba(60, 64, 67, 0.3), 0px 1px 3px 1px rgba(60, 64, 67, 0.15);\n",
              "      fill: #174EA6;\n",
              "    }\n",
              "\n",
              "    [theme=dark] .colab-df-convert {\n",
              "      background-color: #3B4455;\n",
              "      fill: #D2E3FC;\n",
              "    }\n",
              "\n",
              "    [theme=dark] .colab-df-convert:hover {\n",
              "      background-color: #434B5C;\n",
              "      box-shadow: 0px 1px 3px 1px rgba(0, 0, 0, 0.15);\n",
              "      filter: drop-shadow(0px 1px 2px rgba(0, 0, 0, 0.3));\n",
              "      fill: #FFFFFF;\n",
              "    }\n",
              "  </style>\n",
              "\n",
              "      <script>\n",
              "        const buttonEl =\n",
              "          document.querySelector('#df-60076c00-04a4-4b46-b558-8f5ca47cba70 button.colab-df-convert');\n",
              "        buttonEl.style.display =\n",
              "          google.colab.kernel.accessAllowed ? 'block' : 'none';\n",
              "\n",
              "        async function convertToInteractive(key) {\n",
              "          const element = document.querySelector('#df-60076c00-04a4-4b46-b558-8f5ca47cba70');\n",
              "          const dataTable =\n",
              "            await google.colab.kernel.invokeFunction('convertToInteractive',\n",
              "                                                     [key], {});\n",
              "          if (!dataTable) return;\n",
              "\n",
              "          const docLinkHtml = 'Like what you see? Visit the ' +\n",
              "            '<a target=\"_blank\" href=https://colab.research.google.com/notebooks/data_table.ipynb>data table notebook</a>'\n",
              "            + ' to learn more about interactive tables.';\n",
              "          element.innerHTML = '';\n",
              "          dataTable['output_type'] = 'display_data';\n",
              "          await google.colab.output.renderOutput(dataTable, element);\n",
              "          const docLink = document.createElement('div');\n",
              "          docLink.innerHTML = docLinkHtml;\n",
              "          element.appendChild(docLink);\n",
              "        }\n",
              "      </script>\n",
              "    </div>\n",
              "  </div>\n",
              "  "
            ]
          },
          "metadata": {},
          "execution_count": 4
        }
      ]
    },
    {
      "cell_type": "code",
      "source": [
        "# import libraries\n",
        "from sklearn.preprocessing import LabelEncoder\n",
        "from sklearn.model_selection import train_test_split\n",
        "\n",
        "# rename columns\n",
        "df.columns = ['Classes', 'Comments']\n",
        "\n",
        "# remove missing values\n",
        "df = df.dropna()\n",
        "\n",
        "# encode target label\n",
        "le = LabelEncoder()\n",
        "df['Classes'] = le.fit_transform(df['Classes'])\n",
        "\n",
        "# establish input and output\n",
        "X = list(df['Comments'])\n",
        "y = list(df['Classes'])\n",
        "\n",
        "# split data into training and testing set\n",
        "X_train, X_test, y_train, y_test = train_test_split(X, y, test_size=0.25, random_state=42)"
      ],
      "metadata": {
        "id": "hWn-28d3aLLJ"
      },
      "execution_count": 5,
      "outputs": []
    },
    {
      "cell_type": "code",
      "source": [
        "from sklearn.feature_extraction.text import CountVectorizer\n",
        "\n",
        "# create a bag of words for only unigrams\n",
        "cv = CountVectorizer(analyzer = 'word',ngram_range=(1,1), stop_words='english')\n",
        "\n",
        "# convert training data to bag of words\n",
        "X_train_cv = cv.fit_transform(X_train)\n",
        "X_test_cv = cv.transform(X_test)"
      ],
      "metadata": {
        "id": "1XbIe_MwaePR"
      },
      "execution_count": 6,
      "outputs": []
    },
    {
      "cell_type": "code",
      "source": [
        "# import libraries\n",
        "from sklearn.naive_bayes import MultinomialNB\n",
        "from sklearn.metrics import f1_score\n",
        "\n",
        "# train naive bayes classifier\n",
        "clf = MultinomialNB()\n",
        "clf.fit(X_train_cv, y_train)\n",
        "\n",
        "# create predictions\n",
        "y_pred = clf.predict(X_test_cv)\n",
        "\n",
        "# find f-1 score\n",
        "score = f1_score(y_test, y_pred, average='micro')\n",
        "print('F-1 score : {}'.format(np.round(score,4)))"
      ],
      "metadata": {
        "colab": {
          "base_uri": "https://localhost:8080/"
        },
        "id": "_VxQjVV9ajT1",
        "outputId": "f6ca2d37-deb0-4074-f1fa-9fd96fe66596"
      },
      "execution_count": 7,
      "outputs": [
        {
          "output_type": "stream",
          "name": "stdout",
          "text": [
            "F-1 score : 0.4462\n"
          ]
        }
      ]
    },
    {
      "cell_type": "code",
      "source": [
        "# create a bag of words for with unigrams and bigrams\n",
        "cv = CountVectorizer(analyzer = 'word',ngram_range=(1,2), stop_words='english')\n",
        "\n",
        "# convert training data to bag of words\n",
        "X_train_cv = cv.fit_transform(X_train)\n",
        "X_test_cv = cv.transform(X_test)\n",
        "\n",
        "\n",
        "# train naive bayes classifier\n",
        "clf = MultinomialNB()\n",
        "clf.fit(X_train_cv, y_train)\n",
        "\n",
        "# create predictions\n",
        "y_pred = clf.predict(X_test_cv)\n",
        "\n",
        "# find f-1 score\n",
        "score = f1_score(y_test, y_pred, average='micro')\n",
        "print('F-1 score : {}'.format(np.round(score,4)))"
      ],
      "metadata": {
        "colab": {
          "base_uri": "https://localhost:8080/"
        },
        "id": "6K1zRD61at3i",
        "outputId": "af17ac9a-027a-45e3-e9dd-8d74b343016a"
      },
      "execution_count": 8,
      "outputs": [
        {
          "output_type": "stream",
          "name": "stdout",
          "text": [
            "F-1 score : 0.4769\n"
          ]
        }
      ]
    },
    {
      "cell_type": "code",
      "source": [
        "# train model with different n-gram ranges\n",
        "for N in range(1,11):\n",
        "    \n",
        "    # convert training data to bag of words\n",
        "    cv = CountVectorizer(analyzer = 'word',ngram_range=(1,N), stop_words='english')\n",
        "    X_train_cv = cv.fit_transform(X_train)\n",
        "    X_test_cv = cv.transform(X_test)\n",
        "    \n",
        "    # train model and generate predictions\n",
        "    clf = MultinomialNB()\n",
        "    clf.fit(X_train_cv, y_train)\n",
        "    y_pred = clf.predict(X_test_cv)\n",
        "    \n",
        "    # compute f-1 score\n",
        "    score = np.round(f1_score(y_test, y_pred, average='micro'),4)\n",
        "    print('F-1 score of model with n-gram range of {}: {}'.format((1,N), score))"
      ],
      "metadata": {
        "colab": {
          "base_uri": "https://localhost:8080/"
        },
        "id": "-AwgI1d0azxw",
        "outputId": "25e72e82-c785-4234-ab0f-2742c6133fa8"
      },
      "execution_count": 9,
      "outputs": [
        {
          "output_type": "stream",
          "name": "stdout",
          "text": [
            "F-1 score of model with n-gram range of (1, 1): 0.4462\n",
            "F-1 score of model with n-gram range of (1, 2): 0.4769\n",
            "F-1 score of model with n-gram range of (1, 3): 0.4923\n",
            "F-1 score of model with n-gram range of (1, 4): 0.4923\n",
            "F-1 score of model with n-gram range of (1, 5): 0.4615\n",
            "F-1 score of model with n-gram range of (1, 6): 0.4615\n",
            "F-1 score of model with n-gram range of (1, 7): 0.4615\n",
            "F-1 score of model with n-gram range of (1, 8): 0.4615\n",
            "F-1 score of model with n-gram range of (1, 9): 0.4615\n",
            "F-1 score of model with n-gram range of (1, 10): 0.4615\n"
          ]
        }
      ]
    }
  ]
}