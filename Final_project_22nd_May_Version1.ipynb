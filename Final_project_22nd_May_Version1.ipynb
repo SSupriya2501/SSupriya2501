{
  "nbformat": 4,
  "nbformat_minor": 0,
  "metadata": {
    "colab": {
      "name": "Final_project_22nd May.ipynb",
      "provenance": [],
      "authorship_tag": "ABX9TyN7nmvGwzYz0UUmvY/vMuZo",
      "include_colab_link": true
    },
    "kernelspec": {
      "name": "python3",
      "display_name": "Python 3"
    },
    "language_info": {
      "name": "python"
    }
  },
  "cells": [
    {
      "cell_type": "markdown",
      "metadata": {
        "id": "view-in-github",
        "colab_type": "text"
      },
      "source": [
        "<a href=\"https://colab.research.google.com/github/SSupriya2501/SSupriya2501/blob/main/Final_project_22nd_May_Version1.ipynb\" target=\"_parent\"><img src=\"https://colab.research.google.com/assets/colab-badge.svg\" alt=\"Open In Colab\"/></a>"
      ]
    },
    {
      "cell_type": "code",
      "execution_count": 1,
      "metadata": {
        "id": "04x8Pk_J-gfp"
      },
      "outputs": [],
      "source": [
        "import numpy as np\n",
        "import pandas as pd\n",
        "import matplotlib.pyplot as plt\n",
        "import os\n",
        "import time\n",
        "\n",
        "plt.style.use(style='seaborn')\n",
        "%matplotlib inline"
      ]
    },
    {
      "cell_type": "code",
      "source": [
        "from google.colab import drive\n",
        "drive.mount('/content/drive')"
      ],
      "metadata": {
        "colab": {
          "base_uri": "https://localhost:8080/"
        },
        "id": "5Rv5LDSa_CZF",
        "outputId": "7f73e4d2-6c2f-4061-dc5c-f09b967d26b1"
      },
      "execution_count": 2,
      "outputs": [
        {
          "output_type": "stream",
          "name": "stdout",
          "text": [
            "Mounted at /content/drive\n"
          ]
        }
      ]
    },
    {
      "cell_type": "code",
      "source": [
        "import pandas as pd\n",
        "\n",
        "path = \"/content/drive/MyDrive/Corpus_21st_May.csv\"\n",
        "df= pd.read_csv(path , encoding = \"UTF-8\")\n",
        "#df=pd.read_csv('all-data.csv',encoding = \"windows-1252\")\n",
        "df.head()"
      ],
      "metadata": {
        "colab": {
          "base_uri": "https://localhost:8080/",
          "height": 206
        },
        "id": "uKrwVLta_SfF",
        "outputId": "264ea7d0-40d8-487d-9ad6-5d44c93ea1af"
      },
      "execution_count": 3,
      "outputs": [
        {
          "output_type": "execute_result",
          "data": {
            "text/plain": [
              "   Classes                                           Comments\n",
              "0        1  Eder niye alochona na korai valo.Era to  sudhu...\n",
              "1        1  sala janoar Sindoor k o respect dite shekheni ...\n",
              "2        1              ader lajja,man samman bole kichu nei.\n",
              "3        1                    Juto mere des theke tarate hobe\n",
              "4        1                                       Harami...ara"
            ],
            "text/html": [
              "\n",
              "  <div id=\"df-42b755b8-a3d0-4202-aa13-162053f45d0f\">\n",
              "    <div class=\"colab-df-container\">\n",
              "      <div>\n",
              "<style scoped>\n",
              "    .dataframe tbody tr th:only-of-type {\n",
              "        vertical-align: middle;\n",
              "    }\n",
              "\n",
              "    .dataframe tbody tr th {\n",
              "        vertical-align: top;\n",
              "    }\n",
              "\n",
              "    .dataframe thead th {\n",
              "        text-align: right;\n",
              "    }\n",
              "</style>\n",
              "<table border=\"1\" class=\"dataframe\">\n",
              "  <thead>\n",
              "    <tr style=\"text-align: right;\">\n",
              "      <th></th>\n",
              "      <th>Classes</th>\n",
              "      <th>Comments</th>\n",
              "    </tr>\n",
              "  </thead>\n",
              "  <tbody>\n",
              "    <tr>\n",
              "      <th>0</th>\n",
              "      <td>1</td>\n",
              "      <td>Eder niye alochona na korai valo.Era to  sudhu...</td>\n",
              "    </tr>\n",
              "    <tr>\n",
              "      <th>1</th>\n",
              "      <td>1</td>\n",
              "      <td>sala janoar Sindoor k o respect dite shekheni ...</td>\n",
              "    </tr>\n",
              "    <tr>\n",
              "      <th>2</th>\n",
              "      <td>1</td>\n",
              "      <td>ader lajja,man samman bole kichu nei.</td>\n",
              "    </tr>\n",
              "    <tr>\n",
              "      <th>3</th>\n",
              "      <td>1</td>\n",
              "      <td>Juto mere des theke tarate hobe</td>\n",
              "    </tr>\n",
              "    <tr>\n",
              "      <th>4</th>\n",
              "      <td>1</td>\n",
              "      <td>Harami...ara</td>\n",
              "    </tr>\n",
              "  </tbody>\n",
              "</table>\n",
              "</div>\n",
              "      <button class=\"colab-df-convert\" onclick=\"convertToInteractive('df-42b755b8-a3d0-4202-aa13-162053f45d0f')\"\n",
              "              title=\"Convert this dataframe to an interactive table.\"\n",
              "              style=\"display:none;\">\n",
              "        \n",
              "  <svg xmlns=\"http://www.w3.org/2000/svg\" height=\"24px\"viewBox=\"0 0 24 24\"\n",
              "       width=\"24px\">\n",
              "    <path d=\"M0 0h24v24H0V0z\" fill=\"none\"/>\n",
              "    <path d=\"M18.56 5.44l.94 2.06.94-2.06 2.06-.94-2.06-.94-.94-2.06-.94 2.06-2.06.94zm-11 1L8.5 8.5l.94-2.06 2.06-.94-2.06-.94L8.5 2.5l-.94 2.06-2.06.94zm10 10l.94 2.06.94-2.06 2.06-.94-2.06-.94-.94-2.06-.94 2.06-2.06.94z\"/><path d=\"M17.41 7.96l-1.37-1.37c-.4-.4-.92-.59-1.43-.59-.52 0-1.04.2-1.43.59L10.3 9.45l-7.72 7.72c-.78.78-.78 2.05 0 2.83L4 21.41c.39.39.9.59 1.41.59.51 0 1.02-.2 1.41-.59l7.78-7.78 2.81-2.81c.8-.78.8-2.07 0-2.86zM5.41 20L4 18.59l7.72-7.72 1.47 1.35L5.41 20z\"/>\n",
              "  </svg>\n",
              "      </button>\n",
              "      \n",
              "  <style>\n",
              "    .colab-df-container {\n",
              "      display:flex;\n",
              "      flex-wrap:wrap;\n",
              "      gap: 12px;\n",
              "    }\n",
              "\n",
              "    .colab-df-convert {\n",
              "      background-color: #E8F0FE;\n",
              "      border: none;\n",
              "      border-radius: 50%;\n",
              "      cursor: pointer;\n",
              "      display: none;\n",
              "      fill: #1967D2;\n",
              "      height: 32px;\n",
              "      padding: 0 0 0 0;\n",
              "      width: 32px;\n",
              "    }\n",
              "\n",
              "    .colab-df-convert:hover {\n",
              "      background-color: #E2EBFA;\n",
              "      box-shadow: 0px 1px 2px rgba(60, 64, 67, 0.3), 0px 1px 3px 1px rgba(60, 64, 67, 0.15);\n",
              "      fill: #174EA6;\n",
              "    }\n",
              "\n",
              "    [theme=dark] .colab-df-convert {\n",
              "      background-color: #3B4455;\n",
              "      fill: #D2E3FC;\n",
              "    }\n",
              "\n",
              "    [theme=dark] .colab-df-convert:hover {\n",
              "      background-color: #434B5C;\n",
              "      box-shadow: 0px 1px 3px 1px rgba(0, 0, 0, 0.15);\n",
              "      filter: drop-shadow(0px 1px 2px rgba(0, 0, 0, 0.3));\n",
              "      fill: #FFFFFF;\n",
              "    }\n",
              "  </style>\n",
              "\n",
              "      <script>\n",
              "        const buttonEl =\n",
              "          document.querySelector('#df-42b755b8-a3d0-4202-aa13-162053f45d0f button.colab-df-convert');\n",
              "        buttonEl.style.display =\n",
              "          google.colab.kernel.accessAllowed ? 'block' : 'none';\n",
              "\n",
              "        async function convertToInteractive(key) {\n",
              "          const element = document.querySelector('#df-42b755b8-a3d0-4202-aa13-162053f45d0f');\n",
              "          const dataTable =\n",
              "            await google.colab.kernel.invokeFunction('convertToInteractive',\n",
              "                                                     [key], {});\n",
              "          if (!dataTable) return;\n",
              "\n",
              "          const docLinkHtml = 'Like what you see? Visit the ' +\n",
              "            '<a target=\"_blank\" href=https://colab.research.google.com/notebooks/data_table.ipynb>data table notebook</a>'\n",
              "            + ' to learn more about interactive tables.';\n",
              "          element.innerHTML = '';\n",
              "          dataTable['output_type'] = 'display_data';\n",
              "          await google.colab.output.renderOutput(dataTable, element);\n",
              "          const docLink = document.createElement('div');\n",
              "          docLink.innerHTML = docLinkHtml;\n",
              "          element.appendChild(docLink);\n",
              "        }\n",
              "      </script>\n",
              "    </div>\n",
              "  </div>\n",
              "  "
            ]
          },
          "metadata": {},
          "execution_count": 3
        }
      ]
    },
    {
      "cell_type": "code",
      "source": [
        "df.info()"
      ],
      "metadata": {
        "colab": {
          "base_uri": "https://localhost:8080/"
        },
        "id": "mE20H6SI_V_k",
        "outputId": "ea2e9b9a-c3b8-4f19-89aa-52c3a7e5bd90"
      },
      "execution_count": 4,
      "outputs": [
        {
          "output_type": "stream",
          "name": "stdout",
          "text": [
            "<class 'pandas.core.frame.DataFrame'>\n",
            "RangeIndex: 259 entries, 0 to 258\n",
            "Data columns (total 2 columns):\n",
            " #   Column    Non-Null Count  Dtype \n",
            "---  ------    --------------  ----- \n",
            " 0   Classes   259 non-null    int64 \n",
            " 1   Comments  259 non-null    object\n",
            "dtypes: int64(1), object(1)\n",
            "memory usage: 4.2+ KB\n"
          ]
        }
      ]
    },
    {
      "cell_type": "code",
      "source": [
        "df.isna().sum()"
      ],
      "metadata": {
        "colab": {
          "base_uri": "https://localhost:8080/"
        },
        "id": "m17QXCkR_Y0P",
        "outputId": "90939b4d-e479-4a61-c630-8a994006dd76"
      },
      "execution_count": 5,
      "outputs": [
        {
          "output_type": "execute_result",
          "data": {
            "text/plain": [
              "Classes     0\n",
              "Comments    0\n",
              "dtype: int64"
            ]
          },
          "metadata": {},
          "execution_count": 5
        }
      ]
    },
    {
      "cell_type": "code",
      "source": [
        "df['Classes'].value_counts()"
      ],
      "metadata": {
        "colab": {
          "base_uri": "https://localhost:8080/"
        },
        "id": "MDSaMpxQ_cBg",
        "outputId": "63551d1a-88d8-4df0-e243-dacee0238c5b"
      },
      "execution_count": 6,
      "outputs": [
        {
          "output_type": "execute_result",
          "data": {
            "text/plain": [
              "1    78\n",
              "5    66\n",
              "2    42\n",
              "4    39\n",
              "3    34\n",
              "Name: Classes, dtype: int64"
            ]
          },
          "metadata": {},
          "execution_count": 6
        }
      ]
    },
    {
      "cell_type": "code",
      "source": [
        "y=df['Classes'].values\n",
        "y.shape"
      ],
      "metadata": {
        "colab": {
          "base_uri": "https://localhost:8080/"
        },
        "id": "mZF6A8lS_foZ",
        "outputId": "06230cc3-dea3-4d2f-dd3c-e085be5ed093"
      },
      "execution_count": 7,
      "outputs": [
        {
          "output_type": "execute_result",
          "data": {
            "text/plain": [
              "(259,)"
            ]
          },
          "metadata": {},
          "execution_count": 7
        }
      ]
    },
    {
      "cell_type": "code",
      "source": [
        "x=df['Comments'].values\n",
        "x.shape"
      ],
      "metadata": {
        "colab": {
          "base_uri": "https://localhost:8080/"
        },
        "id": "05eRuWtt_iVL",
        "outputId": "62f54561-be38-47ea-8cbf-456051e60348"
      },
      "execution_count": 8,
      "outputs": [
        {
          "output_type": "execute_result",
          "data": {
            "text/plain": [
              "(259,)"
            ]
          },
          "metadata": {},
          "execution_count": 8
        }
      ]
    },
    {
      "cell_type": "code",
      "source": [
        "from sklearn.model_selection import train_test_split"
      ],
      "metadata": {
        "id": "-9myPry6_mpn"
      },
      "execution_count": 9,
      "outputs": []
    },
    {
      "cell_type": "code",
      "source": [
        "(x_train,x_test,y_train,y_test)=train_test_split(x,y,test_size=0.3)"
      ],
      "metadata": {
        "id": "72X5Lb2O_rv_"
      },
      "execution_count": 10,
      "outputs": []
    },
    {
      "cell_type": "code",
      "source": [
        "x_train.shape"
      ],
      "metadata": {
        "colab": {
          "base_uri": "https://localhost:8080/"
        },
        "id": "PlMr0_jh_vdP",
        "outputId": "146e1e1c-a505-48dc-aad1-7ad2f9cd6b1b"
      },
      "execution_count": 11,
      "outputs": [
        {
          "output_type": "execute_result",
          "data": {
            "text/plain": [
              "(181,)"
            ]
          },
          "metadata": {},
          "execution_count": 11
        }
      ]
    },
    {
      "cell_type": "code",
      "source": [
        "y_train.shape"
      ],
      "metadata": {
        "colab": {
          "base_uri": "https://localhost:8080/"
        },
        "id": "2pwm90X9_yaq",
        "outputId": "90262cf4-d0cf-41cc-97d3-3d0541e2b091"
      },
      "execution_count": 12,
      "outputs": [
        {
          "output_type": "execute_result",
          "data": {
            "text/plain": [
              "(181,)"
            ]
          },
          "metadata": {},
          "execution_count": 12
        }
      ]
    },
    {
      "cell_type": "code",
      "source": [
        "x_test.shape"
      ],
      "metadata": {
        "colab": {
          "base_uri": "https://localhost:8080/"
        },
        "id": "i_X2Re0n_1fq",
        "outputId": "c1c3716f-465a-48e2-a4c8-9ba19d43d60a"
      },
      "execution_count": 13,
      "outputs": [
        {
          "output_type": "execute_result",
          "data": {
            "text/plain": [
              "(78,)"
            ]
          },
          "metadata": {},
          "execution_count": 13
        }
      ]
    },
    {
      "cell_type": "code",
      "source": [
        "y_test.shape"
      ],
      "metadata": {
        "colab": {
          "base_uri": "https://localhost:8080/"
        },
        "id": "ihs7Rz_h_4tW",
        "outputId": "a8fd17fc-ca0c-46bf-e663-7895c65b1a55"
      },
      "execution_count": 14,
      "outputs": [
        {
          "output_type": "execute_result",
          "data": {
            "text/plain": [
              "(78,)"
            ]
          },
          "metadata": {},
          "execution_count": 14
        }
      ]
    },
    {
      "cell_type": "code",
      "source": [
        "x_train"
      ],
      "metadata": {
        "colab": {
          "base_uri": "https://localhost:8080/"
        },
        "id": "TBI6Q_6G_7P3",
        "outputId": "b95fdc33-0f4e-4c58-850e-7af9da5961bb"
      },
      "execution_count": 15,
      "outputs": [
        {
          "output_type": "execute_result",
          "data": {
            "text/plain": [
              "array(['Ora balchuda lok', 'Ka eii abal ta ....ok amar lolipop jaoya bo',\n",
              "       'Taka beshi hoye chilo...taii kharoch kore chilo...eii sob meye eii rakom korbe..',\n",
              "       'Band kora uchit', 'Thik gunijoner moto kotha bolechen.',\n",
              "       'Tui or jutor oo joggo naa', 'Chi.....ki osovvo',\n",
              "       'Muslim mey hoye sindur disse lojja nai tor',\n",
              "       'Sadhasidha akta chele ..... fese gelo', 'Apnar to lojja nai',\n",
              "       'Juto mere des theke tarate hobe', 'Esob kono kotha naki palthu',\n",
              "       'Sala tui nongra sala', 'era manush na janoar',\n",
              "       'Potita theke ara naika',\n",
              "       'Apnader r kon kaj nai aktu hole ar ektu bariye bolen',\n",
              "       'Ake ke pochando korechilore', 'Bodmaish er kisher support',\n",
              "       'Lojja laga dorkar ei charecterless mohilar',\n",
              "       'Akdom thik bolecho vaiya', 'Choritrohin meye',\n",
              "       'So nusrat jahan nijei ta shikar koreche.',\n",
              "       'Ai mohila ekta duscoritra. Je meye proti ratai mod khai se ar ki valo hobe',\n",
              "       'oke akhon e resignation dite bola uchit..Faltu mohila',\n",
              "       'Oy principalar aguna puriya mara hok', 'Porimoni akta potita',\n",
              "       'Eisob faltu khobor naa dekhiye kaaj er jinish dekhan..',\n",
              "       'Molla mulli ra biye bojhe naki', 'Faltu Chala Maya sob',\n",
              "       'Eta thik bolechen', 'Nasta magi',\n",
              "       'Bachal sangbadiktake keu chup korao... Choti chata mal ekta',\n",
              "       'Bal joto sob vul val golpo kothai pan',\n",
              "       'Jodi eta Muslim purush aar Hindu mohila hoto taa hole ki ei rokom hote parto??',\n",
              "       'Allah je toke ki korbe ke jane', 'Shob mittha...',\n",
              "       'Hay ree Allah.. Muslim hoye hindu k biya kore....kicu boler nai..',\n",
              "       'Bar bar eki katha',\n",
              "       'Chi amon heading ka dai... Manus to noi apni tai amon heading diyachan... Kutta bolla o kom apni to ar basi kharap',\n",
              "       'Or opore fotoya jaari hoyni to?', 'Tui ki koto bhalo',\n",
              "       'Muslim somajer kolonko akta..',\n",
              "       'A ki ata valo korecy je muslum thake hindu hoase',\n",
              "       'ato nongramu jodi ai dhoroner manus ra kore tahole ara sadharon manus ar ki hobe?',\n",
              "       'Ae dojonei fajil', 'Muslim hole ami korbo',\n",
              "       'Je nejer dhormer hoy na, sha onno dhormer hoy ki kore?',\n",
              "       'Ore amr dekte e mon chay na fajil',\n",
              "       'Bangladesh Police k Juta pita kore Desh Taika biday korte hobe',\n",
              "       'Bangladesh er police sob gulo jaroj', 'meye ta ki pagol naki?',\n",
              "       'Ai rokom mohilara somajer dusman', 'ki je sundar muhurta gulo',\n",
              "       'guli  kore maro', 'Akta valo manush ke thokano holo',\n",
              "       'Ki joghanya interviewer....kothao boltei dichhena...',\n",
              "       'Kono mohila k niye eisob khabor na korlei ki noi????',\n",
              "       'Beiman word ta ei jaater jonno e toiree r eder e manay bhalo.',\n",
              "       'Ei sarkar er lajja lajja chi',\n",
              "       'Baah! Etai holo Mamata Banerjeee er Khela hobe..shameless CM',\n",
              "       ' Asadharan jukti sunlam. Bhalo laglo. Agie jao. Ami khusi.',\n",
              "       'Ai meyeta ekdom baje muslim theke hindu hoise akhn abr husband rekhe nostami',\n",
              "       'Nusrat samajer nongra nari.', 'Faltu meye ekta',\n",
              "       'Eder niye alochona na korai valo.Era to  sudhu sohobas er lok khoje.',\n",
              "       'Deser obostha khub kharap',\n",
              "       'Toitho mosolmaner name kolongko jahannami nusrat saitaner bacha',\n",
              "       'Oshbhoo Januar chara Kichuna nusrat.',\n",
              "       'Ekhuni ei du-mukho mohila k sangsod pod theke tarano hok.',\n",
              "       'Onake juto .mere bangla theke ber kore deoa hok',\n",
              "       'Ei asovho duto K sasti deuya uchi',\n",
              "       'Akti opodartho interviewer. Otyonto bachal.',\n",
              "       'Lok sabha te candidature expel kora hok manoniyo lok sabha speaker er dwara',\n",
              "       'Characterless magi..eta hotoi',\n",
              "       'Eder upojukto bichar howa ucit. Number one bessa ekta.',\n",
              "       'Agula sob mittha',\n",
              "       'Sindoor pore chele khela korchile...Ashobyo mohila',\n",
              "       'Bangladesh sab ganja khor', 'Akdom thik',\n",
              "       'Amr ektu o nojor kareni', 'Jake valo lage tar kachei thako.',\n",
              "       'Are vai ai sob kankir jonno ato news keno ar islamer jonno kichu koren',\n",
              "       'Ader moto meya mora jaya valo ader jonno desta karap hossa',\n",
              "       'Oma aki kando', 'Dur baal... Koto taka peychhish?',\n",
              "       'Joto ajat kujat ese juteche poschim banglai', 'Asadharon avinay',\n",
              "       'Ato choto chela', 'Eara ki arombo koreche',\n",
              "       'tahole ato ghota korar ki dorkar chilo',\n",
              "       'name change kore esechis bhai valo ..',\n",
              "       'porimondol ke lathi mara hok',\n",
              "       'Ai rakom sikhito mohila k biye korar theke akta gramer osikhto meye k biye kora anek valo ora sansar korte  ',\n",
              "       'Jai hok, ebar hindu chhele love jehad er swikar.',\n",
              "       'Sotti ara kothay chilo ato din ajob prani',\n",
              "       'Ashlam soytan dakhte',\n",
              "       'je islam arr soman korte pareni tahe thik allah sasti dibe',\n",
              "       'Indian Der bapare Bangladeshi Der chodar ki ache nirlojjo jati',\n",
              "       'Amr mone hoi onake sansod pod theke suspend kora uchit.',\n",
              "       'TMC ke vote diyechen chi chi chi chi,ki cholche Banglay',\n",
              "       'Kichui ar bolar nei.......',\n",
              "       'Ei koekta pagol chodar jonno puro sikkha proti sthaner opoman hoy',\n",
              "       'Khoon,rape,tolabuzzi tey egiye bangla',\n",
              "       'Cheleta asolei beadob..babar moto Manush k ki bolte hobe or Jana nai...',\n",
              "       'Pagole kina bole chhagole kina khai je narir character clean noi tar katha ar keu sunbe na',\n",
              "       'Ei mohila oti nimnorucir ebong domajer ebong somogro narijatir kolonko, soja kotha chotolok.',\n",
              "       ' Hare bojjat sa li, hindu riti nitir opoman kore gelo ato din.',\n",
              "       'Khela hoche', 'O ra Bokachada', 'Ekdam thìk tomar katha',\n",
              "       'Abal marka sanbadik ar abal marka porimoni',\n",
              "       'Dada, eta sera diyechho. Evabei egiye jao. Chaliye jao',\n",
              "       'Joto ajat kujat ese juteche poschim banglai',\n",
              "       'Eta reverse love jihad er case....example banano uchit....tar opor bangladeshi onuprobeshkari',\n",
              "       'Akhon ki obostha...', 'Darun amar khub valo laglo',\n",
              "       'Nongra meyechele ekta... Asobhyo',\n",
              "       'Bajaru nari  . Nari jatir kalanka', 'Tumi amar bal r golpo lakso',\n",
              "       'Goru chr montry abar lal bathi gari neay jay',\n",
              "       'Ai sala to dakhi pagol,,,',\n",
              "       'Bhai ai harami take kothi pabo bhai bolte parba', 'valo lage na',\n",
              "       'Ei khankir ki hindu chara muslim valo laghe na ...',\n",
              "       'Ei  luccha shikkhoker Fasi chai..', 'Sabe thaka suru',\n",
              "       'Muslims der ai sob roj kar ghotona', 'Sothik bichar hok',\n",
              "       'Sob natok', 'Cheleta beche gache...', 'Akdom thik bolecho vaiya',\n",
              "       'Non Muslim khanki hindu magi',\n",
              "       'Ei to dadu eto din a thik kotha bolechen',\n",
              "       'Ki hocche bojha mushkil.....',\n",
              "       ' Etai ki Khela amader sanskritir sathe',\n",
              "       'Agun r mom jakhan ek sathey hoy takhan ja hoy setai',\n",
              "       'Mukhea jutho diyea Bari daoo', 'Behaya belojji',\n",
              "       'Lojja koray na , akta bia koray ,abar bia korli chorttrohin',\n",
              "       'Ato valo to abar charchos kn khacchor mohila mainser guta na khaite parle valo lagena',\n",
              "       'Sala arober gulam pichiye pora jati abar Bangla te kotha bolchis keno be Urdu bol Urdu',\n",
              "       'Baydob er baccha  tor moto kuttar bechar koruk allah',\n",
              "       'are apni to boltei den na', 'Ara naki aamader neta!',\n",
              "       'Hat tui ki koran dotto ar sata tulona korchis..',\n",
              "       'Islam dhormo mote bia ta hoine. Karon islam a kono muslim hinduke bia kora haram.',\n",
              "       ' Cheater  er baro sasti hoa uchit',\n",
              "       'Ei merechhe onno loke utheche', 'Baje meye',\n",
              "       'Eder aabar biye. Ki dorkar jolghola korar. Divorce niye ne na',\n",
              "       'Harami...ara',\n",
              "       'Bisakto saap ja cinema naika gulo tai.era paisa jonno sab kichi korte pare.',\n",
              "       'Thik hoeche', 'Joto sob baje kotha', 'pagol er prolap',\n",
              "       'Eder jonno Sabi asombhob ke sambhob kara jay karo eder saported Sarkar ache',\n",
              "       '...bangalee der bodnam kore charlo', 'Akdom bhalo lage na.',\n",
              "       'Sala ke jutor mala porano dorkar',\n",
              "       'Ara bessa nari ader jonno samaj kulosito hochche', 'Fajil',\n",
              "       'Pori holo bangladesher ak numbar noti.', 'Apni to paren ni',\n",
              "       'Mithyabadi sansod.',\n",
              "       'akjon  muslim  meye  hoye   se    kajta   thik  koreni',\n",
              "       'Nirlojjo TMC voters ra koi?',\n",
              "       'Eder ke pakistan patha.Ederke ukraine patha',\n",
              "       '...bangalee der bodnam kore charlo', 'Bangali manei nonra',\n",
              "       'Seta tar nijer parsonal matter',\n",
              "       'Sudhu namei Muslim.kaje ba jate kichui na.',\n",
              "       'Nongra meyemanush akta jachetai',\n",
              "       'thik bolechen . Apnar protakta kothar  jukti  ache.',\n",
              "       'Thik kotha bolechen dada', 'Sala pagol zontu',\n",
              "       'Mamata Banerjee Cm er joggo noy...Chi',\n",
              "       'Ato kharap .meyeder  naame kolonko.', 'Musalman to beiman hobei',\n",
              "       'faltu actress ar ki maya name.kolonkito',\n",
              "       'khanki magi hindu magi', 'Didi apner tulona hai na'], dtype=object)"
            ]
          },
          "metadata": {},
          "execution_count": 15
        }
      ]
    },
    {
      "cell_type": "code",
      "source": [
        "df1=pd.DataFrame(x_train)\n",
        "df1=df1.rename(columns={0:'Comments'})\n",
        "\n",
        "df2=pd.DataFrame(y_train)\n",
        "df2=df2.rename(columns={0:'Classes'})\n",
        "df_train=pd.concat([df1,df2],axis=1)\n",
        "\n",
        "df_train.head()"
      ],
      "metadata": {
        "colab": {
          "base_uri": "https://localhost:8080/",
          "height": 214
        },
        "id": "ZQQ4wprZAFCZ",
        "outputId": "f5c68e21-9e90-4f62-952f-b5156efc4e2d"
      },
      "execution_count": 16,
      "outputs": [
        {
          "output_type": "execute_result",
          "data": {
            "text/plain": [
              "                                            Comments  Classes\n",
              "0                                   Ora balchuda lok        1\n",
              "1        Ka eii abal ta ....ok amar lolipop jaoya bo        1\n",
              "2  Taka beshi hoye chilo...taii kharoch kore chil...        2\n",
              "3                                    Band kora uchit        5\n",
              "4                Thik gunijoner moto kotha bolechen.        5"
            ],
            "text/html": [
              "\n",
              "  <div id=\"df-5affbdcc-66b8-4d1f-a09d-1081f5551215\">\n",
              "    <div class=\"colab-df-container\">\n",
              "      <div>\n",
              "<style scoped>\n",
              "    .dataframe tbody tr th:only-of-type {\n",
              "        vertical-align: middle;\n",
              "    }\n",
              "\n",
              "    .dataframe tbody tr th {\n",
              "        vertical-align: top;\n",
              "    }\n",
              "\n",
              "    .dataframe thead th {\n",
              "        text-align: right;\n",
              "    }\n",
              "</style>\n",
              "<table border=\"1\" class=\"dataframe\">\n",
              "  <thead>\n",
              "    <tr style=\"text-align: right;\">\n",
              "      <th></th>\n",
              "      <th>Comments</th>\n",
              "      <th>Classes</th>\n",
              "    </tr>\n",
              "  </thead>\n",
              "  <tbody>\n",
              "    <tr>\n",
              "      <th>0</th>\n",
              "      <td>Ora balchuda lok</td>\n",
              "      <td>1</td>\n",
              "    </tr>\n",
              "    <tr>\n",
              "      <th>1</th>\n",
              "      <td>Ka eii abal ta ....ok amar lolipop jaoya bo</td>\n",
              "      <td>1</td>\n",
              "    </tr>\n",
              "    <tr>\n",
              "      <th>2</th>\n",
              "      <td>Taka beshi hoye chilo...taii kharoch kore chil...</td>\n",
              "      <td>2</td>\n",
              "    </tr>\n",
              "    <tr>\n",
              "      <th>3</th>\n",
              "      <td>Band kora uchit</td>\n",
              "      <td>5</td>\n",
              "    </tr>\n",
              "    <tr>\n",
              "      <th>4</th>\n",
              "      <td>Thik gunijoner moto kotha bolechen.</td>\n",
              "      <td>5</td>\n",
              "    </tr>\n",
              "  </tbody>\n",
              "</table>\n",
              "</div>\n",
              "      <button class=\"colab-df-convert\" onclick=\"convertToInteractive('df-5affbdcc-66b8-4d1f-a09d-1081f5551215')\"\n",
              "              title=\"Convert this dataframe to an interactive table.\"\n",
              "              style=\"display:none;\">\n",
              "        \n",
              "  <svg xmlns=\"http://www.w3.org/2000/svg\" height=\"24px\"viewBox=\"0 0 24 24\"\n",
              "       width=\"24px\">\n",
              "    <path d=\"M0 0h24v24H0V0z\" fill=\"none\"/>\n",
              "    <path d=\"M18.56 5.44l.94 2.06.94-2.06 2.06-.94-2.06-.94-.94-2.06-.94 2.06-2.06.94zm-11 1L8.5 8.5l.94-2.06 2.06-.94-2.06-.94L8.5 2.5l-.94 2.06-2.06.94zm10 10l.94 2.06.94-2.06 2.06-.94-2.06-.94-.94-2.06-.94 2.06-2.06.94z\"/><path d=\"M17.41 7.96l-1.37-1.37c-.4-.4-.92-.59-1.43-.59-.52 0-1.04.2-1.43.59L10.3 9.45l-7.72 7.72c-.78.78-.78 2.05 0 2.83L4 21.41c.39.39.9.59 1.41.59.51 0 1.02-.2 1.41-.59l7.78-7.78 2.81-2.81c.8-.78.8-2.07 0-2.86zM5.41 20L4 18.59l7.72-7.72 1.47 1.35L5.41 20z\"/>\n",
              "  </svg>\n",
              "      </button>\n",
              "      \n",
              "  <style>\n",
              "    .colab-df-container {\n",
              "      display:flex;\n",
              "      flex-wrap:wrap;\n",
              "      gap: 12px;\n",
              "    }\n",
              "\n",
              "    .colab-df-convert {\n",
              "      background-color: #E8F0FE;\n",
              "      border: none;\n",
              "      border-radius: 50%;\n",
              "      cursor: pointer;\n",
              "      display: none;\n",
              "      fill: #1967D2;\n",
              "      height: 32px;\n",
              "      padding: 0 0 0 0;\n",
              "      width: 32px;\n",
              "    }\n",
              "\n",
              "    .colab-df-convert:hover {\n",
              "      background-color: #E2EBFA;\n",
              "      box-shadow: 0px 1px 2px rgba(60, 64, 67, 0.3), 0px 1px 3px 1px rgba(60, 64, 67, 0.15);\n",
              "      fill: #174EA6;\n",
              "    }\n",
              "\n",
              "    [theme=dark] .colab-df-convert {\n",
              "      background-color: #3B4455;\n",
              "      fill: #D2E3FC;\n",
              "    }\n",
              "\n",
              "    [theme=dark] .colab-df-convert:hover {\n",
              "      background-color: #434B5C;\n",
              "      box-shadow: 0px 1px 3px 1px rgba(0, 0, 0, 0.15);\n",
              "      filter: drop-shadow(0px 1px 2px rgba(0, 0, 0, 0.3));\n",
              "      fill: #FFFFFF;\n",
              "    }\n",
              "  </style>\n",
              "\n",
              "      <script>\n",
              "        const buttonEl =\n",
              "          document.querySelector('#df-5affbdcc-66b8-4d1f-a09d-1081f5551215 button.colab-df-convert');\n",
              "        buttonEl.style.display =\n",
              "          google.colab.kernel.accessAllowed ? 'block' : 'none';\n",
              "\n",
              "        async function convertToInteractive(key) {\n",
              "          const element = document.querySelector('#df-5affbdcc-66b8-4d1f-a09d-1081f5551215');\n",
              "          const dataTable =\n",
              "            await google.colab.kernel.invokeFunction('convertToInteractive',\n",
              "                                                     [key], {});\n",
              "          if (!dataTable) return;\n",
              "\n",
              "          const docLinkHtml = 'Like what you see? Visit the ' +\n",
              "            '<a target=\"_blank\" href=https://colab.research.google.com/notebooks/data_table.ipynb>data table notebook</a>'\n",
              "            + ' to learn more about interactive tables.';\n",
              "          element.innerHTML = '';\n",
              "          dataTable['output_type'] = 'display_data';\n",
              "          await google.colab.output.renderOutput(dataTable, element);\n",
              "          const docLink = document.createElement('div');\n",
              "          docLink.innerHTML = docLinkHtml;\n",
              "          element.appendChild(docLink);\n",
              "        }\n",
              "      </script>\n",
              "    </div>\n",
              "  </div>\n",
              "  "
            ]
          },
          "metadata": {},
          "execution_count": 16
        }
      ]
    },
    {
      "cell_type": "code",
      "source": [
        "df_train.info()"
      ],
      "metadata": {
        "colab": {
          "base_uri": "https://localhost:8080/"
        },
        "id": "vaNqTIuOAJOU",
        "outputId": "4054c6b2-9eae-455b-ff02-dc710bfc537d"
      },
      "execution_count": 17,
      "outputs": [
        {
          "output_type": "stream",
          "name": "stdout",
          "text": [
            "<class 'pandas.core.frame.DataFrame'>\n",
            "RangeIndex: 181 entries, 0 to 180\n",
            "Data columns (total 2 columns):\n",
            " #   Column    Non-Null Count  Dtype \n",
            "---  ------    --------------  ----- \n",
            " 0   Comments  181 non-null    object\n",
            " 1   Classes   181 non-null    int64 \n",
            "dtypes: int64(1), object(1)\n",
            "memory usage: 3.0+ KB\n"
          ]
        }
      ]
    },
    {
      "cell_type": "code",
      "source": [
        "df3=pd.DataFrame(x_test)\n",
        "df3=df3.rename(columns={0:'Comments'})\n",
        "\n",
        "df4=pd.DataFrame(y_test)\n",
        "df4=df2.rename(columns={0:'Classes'})\n",
        "df_test=pd.concat([df3,df4],axis=1)\n",
        "\n",
        "df_test.head()"
      ],
      "metadata": {
        "colab": {
          "base_uri": "https://localhost:8080/",
          "height": 206
        },
        "id": "zrj5tTCdANNM",
        "outputId": "066789d4-c6a8-46ea-9a5b-c0d515eec932"
      },
      "execution_count": 18,
      "outputs": [
        {
          "output_type": "execute_result",
          "data": {
            "text/plain": [
              "                                            Comments  Classes\n",
              "0                                               Thik        1\n",
              "1  Ai rakam mp thakle deser barota tor galay dari...        1\n",
              "2  Lok eder k vote debar somoi ki andho boba Kala...        2\n",
              "3                           Are hoyechen  haramjadha        5\n",
              "4  Dhemni k kapor tule kela, sali kothakar, eii  ...        5"
            ],
            "text/html": [
              "\n",
              "  <div id=\"df-e24c2039-bf51-49b0-96dd-fdc78d15f398\">\n",
              "    <div class=\"colab-df-container\">\n",
              "      <div>\n",
              "<style scoped>\n",
              "    .dataframe tbody tr th:only-of-type {\n",
              "        vertical-align: middle;\n",
              "    }\n",
              "\n",
              "    .dataframe tbody tr th {\n",
              "        vertical-align: top;\n",
              "    }\n",
              "\n",
              "    .dataframe thead th {\n",
              "        text-align: right;\n",
              "    }\n",
              "</style>\n",
              "<table border=\"1\" class=\"dataframe\">\n",
              "  <thead>\n",
              "    <tr style=\"text-align: right;\">\n",
              "      <th></th>\n",
              "      <th>Comments</th>\n",
              "      <th>Classes</th>\n",
              "    </tr>\n",
              "  </thead>\n",
              "  <tbody>\n",
              "    <tr>\n",
              "      <th>0</th>\n",
              "      <td>Thik</td>\n",
              "      <td>1</td>\n",
              "    </tr>\n",
              "    <tr>\n",
              "      <th>1</th>\n",
              "      <td>Ai rakam mp thakle deser barota tor galay dari...</td>\n",
              "      <td>1</td>\n",
              "    </tr>\n",
              "    <tr>\n",
              "      <th>2</th>\n",
              "      <td>Lok eder k vote debar somoi ki andho boba Kala...</td>\n",
              "      <td>2</td>\n",
              "    </tr>\n",
              "    <tr>\n",
              "      <th>3</th>\n",
              "      <td>Are hoyechen  haramjadha</td>\n",
              "      <td>5</td>\n",
              "    </tr>\n",
              "    <tr>\n",
              "      <th>4</th>\n",
              "      <td>Dhemni k kapor tule kela, sali kothakar, eii  ...</td>\n",
              "      <td>5</td>\n",
              "    </tr>\n",
              "  </tbody>\n",
              "</table>\n",
              "</div>\n",
              "      <button class=\"colab-df-convert\" onclick=\"convertToInteractive('df-e24c2039-bf51-49b0-96dd-fdc78d15f398')\"\n",
              "              title=\"Convert this dataframe to an interactive table.\"\n",
              "              style=\"display:none;\">\n",
              "        \n",
              "  <svg xmlns=\"http://www.w3.org/2000/svg\" height=\"24px\"viewBox=\"0 0 24 24\"\n",
              "       width=\"24px\">\n",
              "    <path d=\"M0 0h24v24H0V0z\" fill=\"none\"/>\n",
              "    <path d=\"M18.56 5.44l.94 2.06.94-2.06 2.06-.94-2.06-.94-.94-2.06-.94 2.06-2.06.94zm-11 1L8.5 8.5l.94-2.06 2.06-.94-2.06-.94L8.5 2.5l-.94 2.06-2.06.94zm10 10l.94 2.06.94-2.06 2.06-.94-2.06-.94-.94-2.06-.94 2.06-2.06.94z\"/><path d=\"M17.41 7.96l-1.37-1.37c-.4-.4-.92-.59-1.43-.59-.52 0-1.04.2-1.43.59L10.3 9.45l-7.72 7.72c-.78.78-.78 2.05 0 2.83L4 21.41c.39.39.9.59 1.41.59.51 0 1.02-.2 1.41-.59l7.78-7.78 2.81-2.81c.8-.78.8-2.07 0-2.86zM5.41 20L4 18.59l7.72-7.72 1.47 1.35L5.41 20z\"/>\n",
              "  </svg>\n",
              "      </button>\n",
              "      \n",
              "  <style>\n",
              "    .colab-df-container {\n",
              "      display:flex;\n",
              "      flex-wrap:wrap;\n",
              "      gap: 12px;\n",
              "    }\n",
              "\n",
              "    .colab-df-convert {\n",
              "      background-color: #E8F0FE;\n",
              "      border: none;\n",
              "      border-radius: 50%;\n",
              "      cursor: pointer;\n",
              "      display: none;\n",
              "      fill: #1967D2;\n",
              "      height: 32px;\n",
              "      padding: 0 0 0 0;\n",
              "      width: 32px;\n",
              "    }\n",
              "\n",
              "    .colab-df-convert:hover {\n",
              "      background-color: #E2EBFA;\n",
              "      box-shadow: 0px 1px 2px rgba(60, 64, 67, 0.3), 0px 1px 3px 1px rgba(60, 64, 67, 0.15);\n",
              "      fill: #174EA6;\n",
              "    }\n",
              "\n",
              "    [theme=dark] .colab-df-convert {\n",
              "      background-color: #3B4455;\n",
              "      fill: #D2E3FC;\n",
              "    }\n",
              "\n",
              "    [theme=dark] .colab-df-convert:hover {\n",
              "      background-color: #434B5C;\n",
              "      box-shadow: 0px 1px 3px 1px rgba(0, 0, 0, 0.15);\n",
              "      filter: drop-shadow(0px 1px 2px rgba(0, 0, 0, 0.3));\n",
              "      fill: #FFFFFF;\n",
              "    }\n",
              "  </style>\n",
              "\n",
              "      <script>\n",
              "        const buttonEl =\n",
              "          document.querySelector('#df-e24c2039-bf51-49b0-96dd-fdc78d15f398 button.colab-df-convert');\n",
              "        buttonEl.style.display =\n",
              "          google.colab.kernel.accessAllowed ? 'block' : 'none';\n",
              "\n",
              "        async function convertToInteractive(key) {\n",
              "          const element = document.querySelector('#df-e24c2039-bf51-49b0-96dd-fdc78d15f398');\n",
              "          const dataTable =\n",
              "            await google.colab.kernel.invokeFunction('convertToInteractive',\n",
              "                                                     [key], {});\n",
              "          if (!dataTable) return;\n",
              "\n",
              "          const docLinkHtml = 'Like what you see? Visit the ' +\n",
              "            '<a target=\"_blank\" href=https://colab.research.google.com/notebooks/data_table.ipynb>data table notebook</a>'\n",
              "            + ' to learn more about interactive tables.';\n",
              "          element.innerHTML = '';\n",
              "          dataTable['output_type'] = 'display_data';\n",
              "          await google.colab.output.renderOutput(dataTable, element);\n",
              "          const docLink = document.createElement('div');\n",
              "          docLink.innerHTML = docLinkHtml;\n",
              "          element.appendChild(docLink);\n",
              "        }\n",
              "      </script>\n",
              "    </div>\n",
              "  </div>\n",
              "  "
            ]
          },
          "metadata": {},
          "execution_count": 18
        }
      ]
    },
    {
      "cell_type": "code",
      "source": [
        "df_test.info()"
      ],
      "metadata": {
        "colab": {
          "base_uri": "https://localhost:8080/"
        },
        "id": "GW7CVazTAQda",
        "outputId": "197caa7f-edc0-4a20-a3dd-44dfc94381f7"
      },
      "execution_count": 19,
      "outputs": [
        {
          "output_type": "stream",
          "name": "stdout",
          "text": [
            "<class 'pandas.core.frame.DataFrame'>\n",
            "RangeIndex: 181 entries, 0 to 180\n",
            "Data columns (total 2 columns):\n",
            " #   Column    Non-Null Count  Dtype \n",
            "---  ------    --------------  ----- \n",
            " 0   Comments  78 non-null     object\n",
            " 1   Classes   181 non-null    int64 \n",
            "dtypes: int64(1), object(1)\n",
            "memory usage: 3.0+ KB\n"
          ]
        }
      ]
    },
    {
      "cell_type": "code",
      "source": [
        "import string\n",
        "string.punctuation"
      ],
      "metadata": {
        "colab": {
          "base_uri": "https://localhost:8080/",
          "height": 36
        },
        "id": "1-80y3zcATvr",
        "outputId": "17e895d5-c148-4b3c-c3eb-b6bd3080d4ec"
      },
      "execution_count": 20,
      "outputs": [
        {
          "output_type": "execute_result",
          "data": {
            "text/plain": [
              "'!\"#$%&\\'()*+,-./:;<=>?@[\\\\]^_`{|}~'"
            ],
            "application/vnd.google.colaboratory.intrinsic+json": {
              "type": "string"
            }
          },
          "metadata": {},
          "execution_count": 20
        }
      ]
    },
    {
      "cell_type": "code",
      "source": [
        "#defining the function to remove punctuation\n",
        "def remove_punctuation(text):\n",
        "  if(type(text)==float):\n",
        "    return text\n",
        "  ans=\"\"  \n",
        "  for i in text:     \n",
        "    if i not in string.punctuation:\n",
        "      ans+=i    \n",
        "  return ans\n",
        "\n",
        "#storing the puntuation free text in a new column called clean_msg\n",
        "df_train['Comments']= df_train['Comments'].apply(lambda x:remove_punctuation(x))\n",
        "df_test['Comments']= df_test['Comments'].apply(lambda x:remove_punctuation(x))"
      ],
      "metadata": {
        "id": "TKG6NUI4AXEW"
      },
      "execution_count": 21,
      "outputs": []
    },
    {
      "cell_type": "code",
      "source": [
        "df_train.head()\n",
        "#punctuations are removed from comments column in train dataset"
      ],
      "metadata": {
        "colab": {
          "base_uri": "https://localhost:8080/",
          "height": 206
        },
        "id": "QEuODMKsAbDF",
        "outputId": "f5215724-3c55-48e5-d4e0-7c94836458b8"
      },
      "execution_count": 22,
      "outputs": [
        {
          "output_type": "execute_result",
          "data": {
            "text/plain": [
              "                                            Comments  Classes\n",
              "0                                   Ora balchuda lok        1\n",
              "1            Ka eii abal ta ok amar lolipop jaoya bo        1\n",
              "2  Taka beshi hoye chilotaii kharoch kore chiloei...        2\n",
              "3                                    Band kora uchit        5\n",
              "4                 Thik gunijoner moto kotha bolechen        5"
            ],
            "text/html": [
              "\n",
              "  <div id=\"df-9cd0e78d-aadd-44a1-b545-311beb6b2e20\">\n",
              "    <div class=\"colab-df-container\">\n",
              "      <div>\n",
              "<style scoped>\n",
              "    .dataframe tbody tr th:only-of-type {\n",
              "        vertical-align: middle;\n",
              "    }\n",
              "\n",
              "    .dataframe tbody tr th {\n",
              "        vertical-align: top;\n",
              "    }\n",
              "\n",
              "    .dataframe thead th {\n",
              "        text-align: right;\n",
              "    }\n",
              "</style>\n",
              "<table border=\"1\" class=\"dataframe\">\n",
              "  <thead>\n",
              "    <tr style=\"text-align: right;\">\n",
              "      <th></th>\n",
              "      <th>Comments</th>\n",
              "      <th>Classes</th>\n",
              "    </tr>\n",
              "  </thead>\n",
              "  <tbody>\n",
              "    <tr>\n",
              "      <th>0</th>\n",
              "      <td>Ora balchuda lok</td>\n",
              "      <td>1</td>\n",
              "    </tr>\n",
              "    <tr>\n",
              "      <th>1</th>\n",
              "      <td>Ka eii abal ta ok amar lolipop jaoya bo</td>\n",
              "      <td>1</td>\n",
              "    </tr>\n",
              "    <tr>\n",
              "      <th>2</th>\n",
              "      <td>Taka beshi hoye chilotaii kharoch kore chiloei...</td>\n",
              "      <td>2</td>\n",
              "    </tr>\n",
              "    <tr>\n",
              "      <th>3</th>\n",
              "      <td>Band kora uchit</td>\n",
              "      <td>5</td>\n",
              "    </tr>\n",
              "    <tr>\n",
              "      <th>4</th>\n",
              "      <td>Thik gunijoner moto kotha bolechen</td>\n",
              "      <td>5</td>\n",
              "    </tr>\n",
              "  </tbody>\n",
              "</table>\n",
              "</div>\n",
              "      <button class=\"colab-df-convert\" onclick=\"convertToInteractive('df-9cd0e78d-aadd-44a1-b545-311beb6b2e20')\"\n",
              "              title=\"Convert this dataframe to an interactive table.\"\n",
              "              style=\"display:none;\">\n",
              "        \n",
              "  <svg xmlns=\"http://www.w3.org/2000/svg\" height=\"24px\"viewBox=\"0 0 24 24\"\n",
              "       width=\"24px\">\n",
              "    <path d=\"M0 0h24v24H0V0z\" fill=\"none\"/>\n",
              "    <path d=\"M18.56 5.44l.94 2.06.94-2.06 2.06-.94-2.06-.94-.94-2.06-.94 2.06-2.06.94zm-11 1L8.5 8.5l.94-2.06 2.06-.94-2.06-.94L8.5 2.5l-.94 2.06-2.06.94zm10 10l.94 2.06.94-2.06 2.06-.94-2.06-.94-.94-2.06-.94 2.06-2.06.94z\"/><path d=\"M17.41 7.96l-1.37-1.37c-.4-.4-.92-.59-1.43-.59-.52 0-1.04.2-1.43.59L10.3 9.45l-7.72 7.72c-.78.78-.78 2.05 0 2.83L4 21.41c.39.39.9.59 1.41.59.51 0 1.02-.2 1.41-.59l7.78-7.78 2.81-2.81c.8-.78.8-2.07 0-2.86zM5.41 20L4 18.59l7.72-7.72 1.47 1.35L5.41 20z\"/>\n",
              "  </svg>\n",
              "      </button>\n",
              "      \n",
              "  <style>\n",
              "    .colab-df-container {\n",
              "      display:flex;\n",
              "      flex-wrap:wrap;\n",
              "      gap: 12px;\n",
              "    }\n",
              "\n",
              "    .colab-df-convert {\n",
              "      background-color: #E8F0FE;\n",
              "      border: none;\n",
              "      border-radius: 50%;\n",
              "      cursor: pointer;\n",
              "      display: none;\n",
              "      fill: #1967D2;\n",
              "      height: 32px;\n",
              "      padding: 0 0 0 0;\n",
              "      width: 32px;\n",
              "    }\n",
              "\n",
              "    .colab-df-convert:hover {\n",
              "      background-color: #E2EBFA;\n",
              "      box-shadow: 0px 1px 2px rgba(60, 64, 67, 0.3), 0px 1px 3px 1px rgba(60, 64, 67, 0.15);\n",
              "      fill: #174EA6;\n",
              "    }\n",
              "\n",
              "    [theme=dark] .colab-df-convert {\n",
              "      background-color: #3B4455;\n",
              "      fill: #D2E3FC;\n",
              "    }\n",
              "\n",
              "    [theme=dark] .colab-df-convert:hover {\n",
              "      background-color: #434B5C;\n",
              "      box-shadow: 0px 1px 3px 1px rgba(0, 0, 0, 0.15);\n",
              "      filter: drop-shadow(0px 1px 2px rgba(0, 0, 0, 0.3));\n",
              "      fill: #FFFFFF;\n",
              "    }\n",
              "  </style>\n",
              "\n",
              "      <script>\n",
              "        const buttonEl =\n",
              "          document.querySelector('#df-9cd0e78d-aadd-44a1-b545-311beb6b2e20 button.colab-df-convert');\n",
              "        buttonEl.style.display =\n",
              "          google.colab.kernel.accessAllowed ? 'block' : 'none';\n",
              "\n",
              "        async function convertToInteractive(key) {\n",
              "          const element = document.querySelector('#df-9cd0e78d-aadd-44a1-b545-311beb6b2e20');\n",
              "          const dataTable =\n",
              "            await google.colab.kernel.invokeFunction('convertToInteractive',\n",
              "                                                     [key], {});\n",
              "          if (!dataTable) return;\n",
              "\n",
              "          const docLinkHtml = 'Like what you see? Visit the ' +\n",
              "            '<a target=\"_blank\" href=https://colab.research.google.com/notebooks/data_table.ipynb>data table notebook</a>'\n",
              "            + ' to learn more about interactive tables.';\n",
              "          element.innerHTML = '';\n",
              "          dataTable['output_type'] = 'display_data';\n",
              "          await google.colab.output.renderOutput(dataTable, element);\n",
              "          const docLink = document.createElement('div');\n",
              "          docLink.innerHTML = docLinkHtml;\n",
              "          element.appendChild(docLink);\n",
              "        }\n",
              "      </script>\n",
              "    </div>\n",
              "  </div>\n",
              "  "
            ]
          },
          "metadata": {},
          "execution_count": 22
        }
      ]
    },
    {
      "cell_type": "code",
      "source": [
        "import nltk\n",
        "from nltk.corpus import stopwords\n",
        "nltk.download('stopwords')"
      ],
      "metadata": {
        "colab": {
          "base_uri": "https://localhost:8080/"
        },
        "id": "Ny4lUmDPAtfW",
        "outputId": "8056cf4a-94b9-47b6-d438-5871a80d0a67"
      },
      "execution_count": 23,
      "outputs": [
        {
          "output_type": "stream",
          "name": "stdout",
          "text": [
            "[nltk_data] Downloading package stopwords to /root/nltk_data...\n",
            "[nltk_data]   Unzipping corpora/stopwords.zip.\n"
          ]
        },
        {
          "output_type": "execute_result",
          "data": {
            "text/plain": [
              "True"
            ]
          },
          "metadata": {},
          "execution_count": 23
        }
      ]
    },
    {
      "cell_type": "code",
      "source": [
        "def generate_N_grams(text,ngram=1):\n",
        "  words=[word for word in text.split(\" \") if word not in set(stopwords.words('english'))]  \n",
        "  print(\"Sentence after removing stopwords:\",words)\n",
        "  temp=zip(*[words[i:] for i in range(0,ngram)])\n",
        "  ans=[' '.join(ngram) for ngram in temp]\n",
        "  return ans"
      ],
      "metadata": {
        "id": "_ev_F2LzA_tM"
      },
      "execution_count": 24,
      "outputs": []
    },
    {
      "cell_type": "code",
      "source": [
        "#sample!\n",
        "generate_N_grams(\"The sun rises in the east\",2)"
      ],
      "metadata": {
        "colab": {
          "base_uri": "https://localhost:8080/"
        },
        "id": "n8XrDtISBDRx",
        "outputId": "c8872cc8-e94b-4619-e900-f102de4526ac"
      },
      "execution_count": 25,
      "outputs": [
        {
          "output_type": "stream",
          "name": "stdout",
          "text": [
            "Sentence after removing stopwords: ['The', 'sun', 'rises', 'east']\n"
          ]
        },
        {
          "output_type": "execute_result",
          "data": {
            "text/plain": [
              "['The sun', 'sun rises', 'rises east']"
            ]
          },
          "metadata": {},
          "execution_count": 25
        }
      ]
    },
    {
      "cell_type": "code",
      "source": [
        "from collections import defaultdict"
      ],
      "metadata": {
        "id": "Qvmng8muBIN-"
      },
      "execution_count": 26,
      "outputs": []
    },
    {
      "cell_type": "code",
      "source": [
        "class1Values=defaultdict(int)\n",
        "class2Values=defaultdict(int)\n",
        "class3Values=defaultdict(int)\n",
        "class4Values=defaultdict(int)\n",
        "class5Values=defaultdict(int)\n",
        "#get the count of every word in both the columns of df_train and df_test dataframes"
      ],
      "metadata": {
        "id": "JQ7vUgNoBMiD"
      },
      "execution_count": 27,
      "outputs": []
    },
    {
      "cell_type": "code",
      "source": [
        "#get the count of every word in both the columns of df_train and df_test dataframes where sentiment=\"positive\"\n",
        "for text in df_train[df_train.Classes==\"1\"].Comments:\n",
        "  for word in generate_N_grams(text):\n",
        "    class1Values[word]+=1"
      ],
      "metadata": {
        "id": "c910hpqTBdUV"
      },
      "execution_count": 28,
      "outputs": []
    },
    {
      "cell_type": "code",
      "source": [
        "#get the count of every word in both the columns of df_train and df_test dataframes where sentiment=\"positive\"\n",
        "for text in df_train[df_train.Classes==\"2\"].Comments:\n",
        "  for word in generate_N_grams(text):\n",
        "    class2Values[word]+=1"
      ],
      "metadata": {
        "id": "39s3wJd7Bpzc"
      },
      "execution_count": 29,
      "outputs": []
    },
    {
      "cell_type": "code",
      "source": [
        "#get the count of every word in both the columns of df_train and df_test dataframes where sentiment=\"positive\"\n",
        "for text in df_train[df_train.Classes==\"3\"].Comments:\n",
        "  for word in generate_N_grams(text):\n",
        "    class3Values[word]+=1"
      ],
      "metadata": {
        "id": "1fwgGAX_BuWH"
      },
      "execution_count": 30,
      "outputs": []
    },
    {
      "cell_type": "code",
      "source": [
        "#get the count of every word in both the columns of df_train and df_test dataframes where sentiment=\"positive\"\n",
        "for text in df_train[df_train.Classes==\"4\"].Comments:\n",
        "  for word in generate_N_grams(text):\n",
        "    class4Values[word]+=1"
      ],
      "metadata": {
        "id": "zBbQjDodByF9"
      },
      "execution_count": 31,
      "outputs": []
    },
    {
      "cell_type": "code",
      "source": [
        "#get the count of every word in both the columns of df_train and df_test dataframes where sentiment=\"positive\"\n",
        "for text in df_train[df_train.Classes==\"5\"].Comments:\n",
        "  for word in generate_N_grams(text):\n",
        "    class5Values[word]+=1"
      ],
      "metadata": {
        "id": "G7b2flZHB1AC"
      },
      "execution_count": 32,
      "outputs": []
    },
    {
      "cell_type": "code",
      "source": [
        "#focus on more frequently occuring words for every class=>\n",
        "#sort in DO wrt 2nd column in each of class1Values,class2Values and class3Values\n",
        "df_class1=pd.DataFrame(sorted(class1Values.items(),key=lambda x:x[1],reverse=True))\n",
        "df_class2=pd.DataFrame(sorted(class2Values.items(),key=lambda x:x[1],reverse=True))\n",
        "df_class3=pd.DataFrame(sorted(class3Values.items(),key=lambda x:x[1],reverse=True))\n",
        "df_class4=pd.DataFrame(sorted(class4Values.items(),key=lambda x:x[1],reverse=True))\n",
        "df_class5=pd.DataFrame(sorted(class5Values.items(),key=lambda x:x[1],reverse=True))"
      ],
      "metadata": {
        "id": "aLtKBjgvB8Gl"
      },
      "execution_count": 34,
      "outputs": []
    },
    {
      "cell_type": "code",
      "source": [
        "pd1=df_class1[0][:10]\n",
        "pd2=df_class1[1][:10]"
      ],
      "metadata": {
        "colab": {
          "base_uri": "https://localhost:8080/",
          "height": 519
        },
        "id": "vB_AG_-ADaCl",
        "outputId": "bdf7f896-38c9-43f6-8d9e-2b045c003616"
      },
      "execution_count": 37,
      "outputs": [
        {
          "output_type": "error",
          "ename": "KeyError",
          "evalue": "ignored",
          "traceback": [
            "\u001b[0;31m---------------------------------------------------------------------------\u001b[0m",
            "\u001b[0;31mKeyError\u001b[0m                                  Traceback (most recent call last)",
            "\u001b[0;32m/usr/local/lib/python3.7/dist-packages/pandas/core/indexes/base.py\u001b[0m in \u001b[0;36mget_loc\u001b[0;34m(self, key, method, tolerance)\u001b[0m\n\u001b[1;32m   3360\u001b[0m             \u001b[0;32mtry\u001b[0m\u001b[0;34m:\u001b[0m\u001b[0;34m\u001b[0m\u001b[0;34m\u001b[0m\u001b[0m\n\u001b[0;32m-> 3361\u001b[0;31m                 \u001b[0;32mreturn\u001b[0m \u001b[0mself\u001b[0m\u001b[0;34m.\u001b[0m\u001b[0m_engine\u001b[0m\u001b[0;34m.\u001b[0m\u001b[0mget_loc\u001b[0m\u001b[0;34m(\u001b[0m\u001b[0mcasted_key\u001b[0m\u001b[0;34m)\u001b[0m\u001b[0;34m\u001b[0m\u001b[0;34m\u001b[0m\u001b[0m\n\u001b[0m\u001b[1;32m   3362\u001b[0m             \u001b[0;32mexcept\u001b[0m \u001b[0mKeyError\u001b[0m \u001b[0;32mas\u001b[0m \u001b[0merr\u001b[0m\u001b[0;34m:\u001b[0m\u001b[0;34m\u001b[0m\u001b[0;34m\u001b[0m\u001b[0m\n",
            "\u001b[0;32m/usr/local/lib/python3.7/dist-packages/pandas/_libs/index.pyx\u001b[0m in \u001b[0;36mpandas._libs.index.IndexEngine.get_loc\u001b[0;34m()\u001b[0m\n",
            "\u001b[0;32m/usr/local/lib/python3.7/dist-packages/pandas/_libs/index.pyx\u001b[0m in \u001b[0;36mpandas._libs.index.IndexEngine.get_loc\u001b[0;34m()\u001b[0m\n",
            "\u001b[0;32mpandas/_libs/hashtable_class_helper.pxi\u001b[0m in \u001b[0;36mpandas._libs.hashtable.PyObjectHashTable.get_item\u001b[0;34m()\u001b[0m\n",
            "\u001b[0;32mpandas/_libs/hashtable_class_helper.pxi\u001b[0m in \u001b[0;36mpandas._libs.hashtable.PyObjectHashTable.get_item\u001b[0;34m()\u001b[0m\n",
            "\u001b[0;31mKeyError\u001b[0m: 0",
            "\nThe above exception was the direct cause of the following exception:\n",
            "\u001b[0;31mKeyError\u001b[0m                                  Traceback (most recent call last)",
            "\u001b[0;32m<ipython-input-37-ba85b3753c6b>\u001b[0m in \u001b[0;36m<module>\u001b[0;34m()\u001b[0m\n\u001b[0;32m----> 1\u001b[0;31m \u001b[0mpd1\u001b[0m\u001b[0;34m=\u001b[0m\u001b[0mdf_class1\u001b[0m\u001b[0;34m[\u001b[0m\u001b[0;36m0\u001b[0m\u001b[0;34m]\u001b[0m\u001b[0;34m[\u001b[0m\u001b[0;34m:\u001b[0m\u001b[0;36m10\u001b[0m\u001b[0;34m]\u001b[0m\u001b[0;34m\u001b[0m\u001b[0;34m\u001b[0m\u001b[0m\n\u001b[0m\u001b[1;32m      2\u001b[0m \u001b[0mpd2\u001b[0m\u001b[0;34m=\u001b[0m\u001b[0mdf_class1\u001b[0m\u001b[0;34m[\u001b[0m\u001b[0;36m1\u001b[0m\u001b[0;34m]\u001b[0m\u001b[0;34m[\u001b[0m\u001b[0;34m:\u001b[0m\u001b[0;36m10\u001b[0m\u001b[0;34m]\u001b[0m\u001b[0;34m\u001b[0m\u001b[0;34m\u001b[0m\u001b[0m\n",
            "\u001b[0;32m/usr/local/lib/python3.7/dist-packages/pandas/core/frame.py\u001b[0m in \u001b[0;36m__getitem__\u001b[0;34m(self, key)\u001b[0m\n\u001b[1;32m   3456\u001b[0m             \u001b[0;32mif\u001b[0m \u001b[0mself\u001b[0m\u001b[0;34m.\u001b[0m\u001b[0mcolumns\u001b[0m\u001b[0;34m.\u001b[0m\u001b[0mnlevels\u001b[0m \u001b[0;34m>\u001b[0m \u001b[0;36m1\u001b[0m\u001b[0;34m:\u001b[0m\u001b[0;34m\u001b[0m\u001b[0;34m\u001b[0m\u001b[0m\n\u001b[1;32m   3457\u001b[0m                 \u001b[0;32mreturn\u001b[0m \u001b[0mself\u001b[0m\u001b[0;34m.\u001b[0m\u001b[0m_getitem_multilevel\u001b[0m\u001b[0;34m(\u001b[0m\u001b[0mkey\u001b[0m\u001b[0;34m)\u001b[0m\u001b[0;34m\u001b[0m\u001b[0;34m\u001b[0m\u001b[0m\n\u001b[0;32m-> 3458\u001b[0;31m             \u001b[0mindexer\u001b[0m \u001b[0;34m=\u001b[0m \u001b[0mself\u001b[0m\u001b[0;34m.\u001b[0m\u001b[0mcolumns\u001b[0m\u001b[0;34m.\u001b[0m\u001b[0mget_loc\u001b[0m\u001b[0;34m(\u001b[0m\u001b[0mkey\u001b[0m\u001b[0;34m)\u001b[0m\u001b[0;34m\u001b[0m\u001b[0;34m\u001b[0m\u001b[0m\n\u001b[0m\u001b[1;32m   3459\u001b[0m             \u001b[0;32mif\u001b[0m \u001b[0mis_integer\u001b[0m\u001b[0;34m(\u001b[0m\u001b[0mindexer\u001b[0m\u001b[0;34m)\u001b[0m\u001b[0;34m:\u001b[0m\u001b[0;34m\u001b[0m\u001b[0;34m\u001b[0m\u001b[0m\n\u001b[1;32m   3460\u001b[0m                 \u001b[0mindexer\u001b[0m \u001b[0;34m=\u001b[0m \u001b[0;34m[\u001b[0m\u001b[0mindexer\u001b[0m\u001b[0;34m]\u001b[0m\u001b[0;34m\u001b[0m\u001b[0;34m\u001b[0m\u001b[0m\n",
            "\u001b[0;32m/usr/local/lib/python3.7/dist-packages/pandas/core/indexes/base.py\u001b[0m in \u001b[0;36mget_loc\u001b[0;34m(self, key, method, tolerance)\u001b[0m\n\u001b[1;32m   3361\u001b[0m                 \u001b[0;32mreturn\u001b[0m \u001b[0mself\u001b[0m\u001b[0;34m.\u001b[0m\u001b[0m_engine\u001b[0m\u001b[0;34m.\u001b[0m\u001b[0mget_loc\u001b[0m\u001b[0;34m(\u001b[0m\u001b[0mcasted_key\u001b[0m\u001b[0;34m)\u001b[0m\u001b[0;34m\u001b[0m\u001b[0;34m\u001b[0m\u001b[0m\n\u001b[1;32m   3362\u001b[0m             \u001b[0;32mexcept\u001b[0m \u001b[0mKeyError\u001b[0m \u001b[0;32mas\u001b[0m \u001b[0merr\u001b[0m\u001b[0;34m:\u001b[0m\u001b[0;34m\u001b[0m\u001b[0;34m\u001b[0m\u001b[0m\n\u001b[0;32m-> 3363\u001b[0;31m                 \u001b[0;32mraise\u001b[0m \u001b[0mKeyError\u001b[0m\u001b[0;34m(\u001b[0m\u001b[0mkey\u001b[0m\u001b[0;34m)\u001b[0m \u001b[0;32mfrom\u001b[0m \u001b[0merr\u001b[0m\u001b[0;34m\u001b[0m\u001b[0;34m\u001b[0m\u001b[0m\n\u001b[0m\u001b[1;32m   3364\u001b[0m \u001b[0;34m\u001b[0m\u001b[0m\n\u001b[1;32m   3365\u001b[0m         \u001b[0;32mif\u001b[0m \u001b[0mis_scalar\u001b[0m\u001b[0;34m(\u001b[0m\u001b[0mkey\u001b[0m\u001b[0;34m)\u001b[0m \u001b[0;32mand\u001b[0m \u001b[0misna\u001b[0m\u001b[0;34m(\u001b[0m\u001b[0mkey\u001b[0m\u001b[0;34m)\u001b[0m \u001b[0;32mand\u001b[0m \u001b[0;32mnot\u001b[0m \u001b[0mself\u001b[0m\u001b[0;34m.\u001b[0m\u001b[0mhasnans\u001b[0m\u001b[0;34m:\u001b[0m\u001b[0;34m\u001b[0m\u001b[0;34m\u001b[0m\u001b[0m\n",
            "\u001b[0;31mKeyError\u001b[0m: 0"
          ]
        }
      ]
    }
  ]
}